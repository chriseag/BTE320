{
  "nbformat": 4,
  "nbformat_minor": 0,
  "metadata": {
    "colab": {
      "provenance": [],
      "authorship_tag": "ABX9TyNrmlwC9Y8PKjWhRgk15YRi",
      "include_colab_link": true
    },
    "kernelspec": {
      "name": "python3",
      "display_name": "Python 3"
    },
    "language_info": {
      "name": "python"
    }
  },
  "cells": [
    {
      "cell_type": "markdown",
      "metadata": {
        "id": "view-in-github",
        "colab_type": "text"
      },
      "source": [
        "<a href=\"https://colab.research.google.com/github/chriseag/BTE320/blob/main/Parking_Garage_Problem.ipynb\" target=\"_parent\"><img src=\"https://colab.research.google.com/assets/colab-badge.svg\" alt=\"Open In Colab\"/></a>"
      ]
    },
    {
      "cell_type": "markdown",
      "source": [
        "Parking Garage Problem:"
      ],
      "metadata": {
        "id": "jwBxyVz0735b"
      }
    },
    {
      "cell_type": "code",
      "execution_count": null,
      "metadata": {
        "colab": {
          "base_uri": "https://localhost:8080/"
        },
        "id": "IZFG2lto1EC3",
        "outputId": "3d5593e1-af75-4d37-d131-5fc6c60be381"
      },
      "outputs": [
        {
          "output_type": "stream",
          "name": "stdout",
          "text": [
            "Hour(s): 1 --- Price: $ 10.0\n",
            "Hour(s): 2 --- Price: $ 10.0\n",
            "Hour(s): 3 --- Price: $ 12.5\n",
            "Hour(s): 4 --- Price: $ 15.0\n",
            "Hour(s): 5 --- Price: $ 17.5\n",
            "Hour(s): 6 --- Price: $ 20.0\n",
            "Hour(s): 7 --- Price: $ 20.0\n",
            "Hour(s): 8 --- Price: $ 20.0\n"
          ]
        }
      ],
      "source": [
        "for hour in range (1,9):\n",
        "  price = hour*2.50+5\n",
        "  if price < 10:\n",
        "    price = 10.0\n",
        "  if price > 20:\n",
        "    price = 20.0\n",
        "  print(\"Hour(s):\", hour, \"--- Price: $\", price)\n"
      ]
    }
  ]
}