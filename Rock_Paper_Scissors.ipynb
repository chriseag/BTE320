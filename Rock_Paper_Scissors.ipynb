{
  "nbformat": 4,
  "nbformat_minor": 0,
  "metadata": {
    "colab": {
      "provenance": [],
      "authorship_tag": "ABX9TyP0DGznIL1KzOEnCN5aFxUE",
      "include_colab_link": true
    },
    "kernelspec": {
      "name": "python3",
      "display_name": "Python 3"
    },
    "language_info": {
      "name": "python"
    }
  },
  "cells": [
    {
      "cell_type": "markdown",
      "metadata": {
        "id": "view-in-github",
        "colab_type": "text"
      },
      "source": [
        "<a href=\"https://colab.research.google.com/github/chriseag/BTE320/blob/main/Rock_Paper_Scissors.ipynb\" target=\"_parent\"><img src=\"https://colab.research.google.com/assets/colab-badge.svg\" alt=\"Open In Colab\"/></a>"
      ]
    },
    {
      "cell_type": "code",
      "execution_count": null,
      "metadata": {
        "colab": {
          "base_uri": "https://localhost:8080/"
        },
        "id": "oKgnIQoDFbzl",
        "outputId": "4a3890d4-1657-45f3-c1e4-7b53f7c9a225"
      },
      "outputs": [
        {
          "name": "stdout",
          "output_type": "stream",
          "text": [
            "Choose 'rock', 'paper', or 'scissors' rock\n",
            "It was a tie, you both chose:  rock\n",
            "Would you like to play again? Yes/No yes\n",
            "Choose 'rock', 'paper', or 'scissors' rock\n",
            "PC chose paper, you lose!\n",
            "Would you like to play again? Yes/No yes\n",
            "Choose 'rock', 'paper', or 'scissors' rock\n",
            "PC chose scissors, you win!\n",
            "Would you like to play again? Yes/No yes\n",
            "Choose 'rock', 'paper', or 'scissors' paper\n",
            "PC chose rock, you win!\n",
            "Would you like to play again? Yes/No yes\n",
            "Choose 'rock', 'paper', or 'scissors' paper\n",
            "PC chose scissors, you lose!\n",
            "Would you like to play again? Yes/No f\n",
            "Choose 'rock', 'paper', or 'scissors' paper\n",
            "It was a tie, you both chose:  paper\n",
            "Would you like to play again? Yes/No no\n"
          ]
        }
      ],
      "source": [
        "import random\n",
        "play_again = True\n",
        "\n",
        "while(True):\n",
        "  pc_choice = random.choice(['rock','paper','scissors'])\n",
        "  user_choice = input(\"Choose 'rock', 'paper', or 'scissors' \")\n",
        "\n",
        "  if(pc_choice == user_choice):\n",
        "    print(\"It was a tie, you both chose: \", user_choice)\n",
        "  elif(pc_choice == 'rock'):\n",
        "    if(user_choice == 'paper'):\n",
        "      print(\"PC chose rock, you win!\")\n",
        "    elif(user_choice == 'scissors'):\n",
        "      print(\"PC chose rock, you lose!\")\n",
        "  elif(pc_choice == 'paper'):\n",
        "    if(user_choice == 'rock'):\n",
        "      print(\"PC chose paper, you lose!\")\n",
        "    elif(user_choice == 'scissors'):\n",
        "      print(\"PC chose paper, you win!\")\n",
        "  else:\n",
        "    if(user_choice == 'rock'):\n",
        "      print(\"PC chose scissors, you win!\")\n",
        "    elif(user_choice == 'paper'):\n",
        "      print(\"PC chose scissors, you lose!\")\n",
        "  play_again = input(\"Would you like to play again? Yes/No \")\n",
        "  if play_again.lower() == 'no':\n",
        "    break\n",
        "\n"
      ]
    }
  ]
}