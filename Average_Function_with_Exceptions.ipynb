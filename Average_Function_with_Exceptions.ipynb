{
  "nbformat": 4,
  "nbformat_minor": 0,
  "metadata": {
    "colab": {
      "provenance": [],
      "authorship_tag": "ABX9TyNdaQuZlyBp+VuYrm3v4+R4",
      "include_colab_link": true
    },
    "kernelspec": {
      "name": "python3",
      "display_name": "Python 3"
    },
    "language_info": {
      "name": "python"
    }
  },
  "cells": [
    {
      "cell_type": "markdown",
      "metadata": {
        "id": "view-in-github",
        "colab_type": "text"
      },
      "source": [
        "<a href=\"https://colab.research.google.com/github/chriseag/BTE320/blob/main/Average_Function_with_Exceptions.ipynb\" target=\"_parent\"><img src=\"https://colab.research.google.com/assets/colab-badge.svg\" alt=\"Open In Colab\"/></a>"
      ]
    },
    {
      "cell_type": "code",
      "execution_count": null,
      "metadata": {
        "id": "e7myY6H-OIT4"
      },
      "outputs": [],
      "source": [
        "def avg(alist):\n",
        "  try:\n",
        "    print(sum(alist) / len(alist))\n",
        "  except ZeroDivisionError:\n",
        "    print(\"List needs to contain at least 1 item\")\n",
        "  except TypeError:\n",
        "    print(\"List should only contain ints or floats\")\n",
        "  except:\n",
        "    print(\"Unknown error\")\n",
        "  else:\n",
        "   print(\"Average value found\")\n",
        "  finally:\n",
        "    print(\"You will always see this message\")\n",
        "\n",
        "avg([1, 12, 23, 34, 45, 56, 67, 78 ,89])"
      ]
    }
  ]
}