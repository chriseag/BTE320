{
  "nbformat": 4,
  "nbformat_minor": 0,
  "metadata": {
    "colab": {
      "provenance": [],
      "authorship_tag": "ABX9TyNgG4/oaK1rk7lqeF0e2XTZ",
      "include_colab_link": true
    },
    "kernelspec": {
      "name": "python3",
      "display_name": "Python 3"
    },
    "language_info": {
      "name": "python"
    }
  },
  "cells": [
    {
      "cell_type": "markdown",
      "metadata": {
        "id": "view-in-github",
        "colab_type": "text"
      },
      "source": [
        "<a href=\"https://colab.research.google.com/github/chriseag/BTE320/blob/main/List_Practice.ipynb\" target=\"_parent\"><img src=\"https://colab.research.google.com/assets/colab-badge.svg\" alt=\"Open In Colab\"/></a>"
      ]
    },
    {
      "cell_type": "code",
      "execution_count": 3,
      "metadata": {
        "colab": {
          "base_uri": "https://localhost:8080/"
        },
        "id": "tkgGhULNEXjb",
        "outputId": "dc428028-fe04-440c-dc1d-6ede7ba81502"
      },
      "outputs": [
        {
          "output_type": "stream",
          "name": "stdout",
          "text": [
            "Enter a value: 1\n",
            "Enter a value: 2345\n",
            "Enter a value: 123\n",
            "Enter a value: 0\n",
            "[1, 2345, 123]\n"
          ]
        }
      ],
      "source": [
        "L = []\n",
        "number = int(input(\"Enter a value: \"))\n",
        "\n",
        "while number != 0:\n",
        "  L.append(number)\n",
        "  number = int(input(\"Enter a value: \"))\n",
        "\n",
        "print(L)"
      ]
    }
  ]
}