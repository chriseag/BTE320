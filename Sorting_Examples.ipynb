{
  "nbformat": 4,
  "nbformat_minor": 0,
  "metadata": {
    "colab": {
      "provenance": [],
      "authorship_tag": "ABX9TyP7jRpqvBRX4wPin+IMv5MD",
      "include_colab_link": true
    },
    "kernelspec": {
      "name": "python3",
      "display_name": "Python 3"
    },
    "language_info": {
      "name": "python"
    }
  },
  "cells": [
    {
      "cell_type": "markdown",
      "metadata": {
        "id": "view-in-github",
        "colab_type": "text"
      },
      "source": [
        "<a href=\"https://colab.research.google.com/github/chriseag/BTE320/blob/main/Sorting_Examples.ipynb\" target=\"_parent\"><img src=\"https://colab.research.google.com/assets/colab-badge.svg\" alt=\"Open In Colab\"/></a>"
      ]
    },
    {
      "cell_type": "code",
      "execution_count": 6,
      "metadata": {
        "colab": {
          "base_uri": "https://localhost:8080/"
        },
        "id": "kedgyJ1xX3C1",
        "outputId": "cb51f054-e037-4f36-f0d0-baf55dd7d242"
      },
      "outputs": [
        {
          "output_type": "execute_result",
          "data": {
            "text/plain": [
              "[-6, 0, 1, 2, 2, 2, 2, 4, 4, 5, 5, 6, 7, 8, 23, 43, 75, 542]"
            ]
          },
          "metadata": {},
          "execution_count": 6
        }
      ],
      "source": [
        "def quickSort(alist):\n",
        "  if len(alist) < 2:\n",
        "    return alist\n",
        "  else:\n",
        "    less, equal, larger = [], [], []\n",
        "    pivotIndex = len(alist)//2\n",
        "\n",
        "    for item in alist:\n",
        "      if item < alist[pivotIndex]:\n",
        "        less.append(item)\n",
        "      elif item == alist[pivotIndex]:\n",
        "        equal.append(item)\n",
        "      else:\n",
        "        larger.append(item)\n",
        "\n",
        "    return quickSort(less) + equal + quickSort(larger)\n",
        "\n",
        "quickSort([2,6,4,2,43,75,2, 542, 23, 1, 5, 7, 4,2 ,5, 8, 0, -6])\n",
        "\n",
        "\n",
        "\n",
        "\n"
      ]
    }
  ]
}