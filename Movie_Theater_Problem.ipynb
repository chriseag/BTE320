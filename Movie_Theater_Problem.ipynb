{
  "nbformat": 4,
  "nbformat_minor": 0,
  "metadata": {
    "colab": {
      "provenance": [],
      "authorship_tag": "ABX9TyMQccN52GU+11BuVg2tQ29b",
      "include_colab_link": true
    },
    "kernelspec": {
      "name": "python3",
      "display_name": "Python 3"
    },
    "language_info": {
      "name": "python"
    }
  },
  "cells": [
    {
      "cell_type": "markdown",
      "metadata": {
        "id": "view-in-github",
        "colab_type": "text"
      },
      "source": [
        "<a href=\"https://colab.research.google.com/github/chriseag/BTE320/blob/main/Movie_Theater_Problem.ipynb\" target=\"_parent\"><img src=\"https://colab.research.google.com/assets/colab-badge.svg\" alt=\"Open In Colab\"/></a>"
      ]
    },
    {
      "cell_type": "markdown",
      "source": [
        "Movie Theater Problem"
      ],
      "metadata": {
        "id": "XXk12t0OJalh"
      }
    },
    {
      "cell_type": "code",
      "execution_count": null,
      "metadata": {
        "id": "4TNBtwu9JWJp"
      },
      "outputs": [],
      "source": [
        "for dollars in range (0,225,25):\n",
        "  profit = 200+10*(2*round(dollars**0.5))-200-dollars\n",
        "  print(\"Advertising Expenditure: $\", float(dollars), \"--- Profit: $\", float(profit))"
      ]
    }
  ]
}