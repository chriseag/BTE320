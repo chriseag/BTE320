{
  "nbformat": 4,
  "nbformat_minor": 0,
  "metadata": {
    "colab": {
      "provenance": [],
      "authorship_tag": "ABX9TyO8tLsG703glLLjJQKkPxzS",
      "include_colab_link": true
    },
    "kernelspec": {
      "name": "python3",
      "display_name": "Python 3"
    },
    "language_info": {
      "name": "python"
    }
  },
  "cells": [
    {
      "cell_type": "markdown",
      "metadata": {
        "id": "view-in-github",
        "colab_type": "text"
      },
      "source": [
        "<a href=\"https://colab.research.google.com/github/chriseag/BTE320/blob/main/Calculator.ipynb\" target=\"_parent\"><img src=\"https://colab.research.google.com/assets/colab-badge.svg\" alt=\"Open In Colab\"/></a>"
      ]
    },
    {
      "cell_type": "code",
      "execution_count": 7,
      "metadata": {
        "colab": {
          "base_uri": "https://localhost:8080/"
        },
        "id": "cA9uGjk8qsxs",
        "outputId": "61ecb506-b3bf-44ea-c2b0-8a5c5d163047"
      },
      "outputs": [
        {
          "name": "stdout",
          "output_type": "stream",
          "text": [
            "Please enter the first number: 1\n",
            "Please enter the operator (+, -, *, /, //, %, **): +\n",
            "Please enter the second number: 2\n",
            "The result of the calculation is: 3.0\n",
            "Please enter the first number: 1\n",
            "Please enter the operator (+, -, *, /, //, %, **): >\n",
            "Please enter the second number: 2\n",
            "Please enter the first number: 1\n",
            "Please enter the operator (+, -, *, /, //, %, **): *\n",
            "Please enter the second number: 2\n",
            "The result of the calculation is: 2.0\n",
            "Please enter the first number: 3\n",
            "Please enter the operator (+, -, *, /, //, %, **): *\n",
            "Please enter the second number: 5\n",
            "The result of the calculation is: 15.0\n",
            "Please enter the first number: 15\n",
            "Please enter the operator (+, -, *, /, //, %, **): -\n",
            "Please enter the second number: 8\n",
            "The result of the calculation is: 7.0\n",
            "Please enter the first number: 14\n",
            "Please enter the operator (+, -, *, /, //, %, **): /\n",
            "Please enter the second number: 2\n",
            "The result of the calculation is: 7.0\n",
            "Please enter the first number: 14\n",
            "Please enter the operator (+, -, *, /, //, %, **): //\n",
            "Please enter the second number: 5\n",
            "The result of the calculation is: 2.0\n",
            "Please enter the first number: 15\n",
            "Please enter the operator (+, -, *, /, //, %, **): %\n",
            "Please enter the second number: 2\n",
            "The result of the calculation is: 1.0\n",
            "Please enter the first number: 3\n",
            "Please enter the operator (+, -, *, /, //, %, **): **\n",
            "Please enter the second number: 2\n",
            "The result of the calculation is: 9.0\n",
            "Please enter the first number: 1\n",
            "Please enter the operator (+, -, *, /, //, %, **): break\n"
          ]
        }
      ],
      "source": [
        "while True:\n",
        "  num1 = float(input(\"Please enter the first number: \"))\n",
        "  operator = (input(\"Please enter the operator (+, -, *, /, //, %, **): \"))\n",
        "  if operator == \"break\":\n",
        "    break\n",
        "  num2 = float(input(\"Please enter the second number: \"))\n",
        "  if operator == \"+\":\n",
        "    result = num1+num2\n",
        "  elif operator == \"-\":\n",
        "    result = num1-num2\n",
        "  elif operator == \"*\":\n",
        "    result = num1*num2\n",
        "  elif operator == \"/\":\n",
        "    result = num1/num2\n",
        "  elif operator == \"//\":\n",
        "    result = num1//num2\n",
        "  elif operator == \"%\":\n",
        "    result = num1%num2\n",
        "  elif operator == \"**\":\n",
        "    result = num1**num2\n",
        "  else:\n",
        "    continue\n",
        "  print(\"The result of the calculation is:\", result)\n",
        "\n"
      ]
    }
  ]
}