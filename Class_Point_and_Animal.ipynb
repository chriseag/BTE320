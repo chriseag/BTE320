{
  "nbformat": 4,
  "nbformat_minor": 0,
  "metadata": {
    "colab": {
      "provenance": [],
      "authorship_tag": "ABX9TyNTCD3faUu63F5A4yILHvIZ",
      "include_colab_link": true
    },
    "kernelspec": {
      "name": "python3",
      "display_name": "Python 3"
    },
    "language_info": {
      "name": "python"
    }
  },
  "cells": [
    {
      "cell_type": "markdown",
      "metadata": {
        "id": "view-in-github",
        "colab_type": "text"
      },
      "source": [
        "<a href=\"https://colab.research.google.com/github/chriseag/BTE320/blob/main/Class_Point_and_Animal.ipynb\" target=\"_parent\"><img src=\"https://colab.research.google.com/assets/colab-badge.svg\" alt=\"Open In Colab\"/></a>"
      ]
    },
    {
      "cell_type": "code",
      "execution_count": null,
      "metadata": {
        "colab": {
          "base_uri": "https://localhost:8080/"
        },
        "id": "rpUXdfjTJXjI",
        "outputId": "9656ed48-2c49-4ee2-c220-d3aaa27d3b9e"
      },
      "outputs": [
        {
          "output_type": "stream",
          "name": "stdout",
          "text": [
            "5.0\n",
            "7.0710678118654755\n"
          ]
        }
      ],
      "source": [
        "class Point:\n",
        "  def __init__ (self, x, y):\n",
        "    self.x = int(x)\n",
        "    self.y = int(y)\n",
        "\n",
        "  def distance(self, other):\n",
        "    x_diff = (self.x-other.x)**2\n",
        "    y_diff = (self.y-other.y)**2\n",
        "    return (x_diff + y_diff) ** 0.5\n",
        "\n",
        "class Point3D(Point):\n",
        "  def __init__(self, x, y, z):\n",
        "    super().__init__(x, y)\n",
        "    self.z = z\n",
        "\n",
        "  def distance(self, other):\n",
        "    x_diff = (self.x-other.x)**2\n",
        "    y_diff = (self.y-other.y)**2\n",
        "    z_diff = (self.z-other.z)**2\n",
        "    return (x_diff + y_diff + z_diff) ** (0.5)\n",
        "\n",
        "\n",
        "p1 = Point(3,4)\n",
        "p2 = Point(6, 8)\n",
        "print(p1.distance(p2))\n",
        "\n",
        "p3 = Point3D(3, 4, 5)\n",
        "p4 = Point3D(6, 8, 10)\n",
        "print(p3.distance(p4))"
      ]
    },
    {
      "cell_type": "code",
      "source": [
        "class Animal:\n",
        "  def __init__ (self, legs):\n",
        "    print(\"Animal created\")\n",
        "    self.legs = legs\n",
        "\n",
        "  def whoAmI(self):\n",
        "    print(\"I am an animal\")\n",
        "\n",
        "class Bird(Animal):\n",
        "  def __init__(self, legs, wings):\n",
        "    super().__init__(legs)\n",
        "    self.wings = wings\n",
        "    print(\"Bird created\")\n",
        "\n",
        "  def fly(self):\n",
        "    print(\"Birds can fly\")\n",
        "\n",
        "a = Animal(4)\n",
        "b = Bird(2, 2)\n",
        "\n",
        "b.whoAmI()\n"
      ],
      "metadata": {
        "colab": {
          "base_uri": "https://localhost:8080/"
        },
        "id": "7Aagh0kyNjN-",
        "outputId": "011eb3aa-76eb-4122-cd52-6f2a206b2528"
      },
      "execution_count": null,
      "outputs": [
        {
          "output_type": "stream",
          "name": "stdout",
          "text": [
            "Animal created\n",
            "Animal created\n",
            "Bird created\n",
            "I am an animal\n"
          ]
        }
      ]
    }
  ]
}