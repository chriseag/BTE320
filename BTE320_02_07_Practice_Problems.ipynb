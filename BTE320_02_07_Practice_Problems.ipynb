{
  "nbformat": 4,
  "nbformat_minor": 0,
  "metadata": {
    "colab": {
      "provenance": [],
      "authorship_tag": "ABX9TyN2uTHZ6G0C8WXlu7rkG4OF",
      "include_colab_link": true
    },
    "kernelspec": {
      "name": "python3",
      "display_name": "Python 3"
    },
    "language_info": {
      "name": "python"
    }
  },
  "cells": [
    {
      "cell_type": "markdown",
      "metadata": {
        "id": "view-in-github",
        "colab_type": "text"
      },
      "source": [
        "<a href=\"https://colab.research.google.com/github/chriseag/BTE320/blob/main/BTE320_02_07_Practice_Problems.ipynb\" target=\"_parent\"><img src=\"https://colab.research.google.com/assets/colab-badge.svg\" alt=\"Open In Colab\"/></a>"
      ]
    },
    {
      "cell_type": "markdown",
      "source": [
        "Parking Garage Problem:"
      ],
      "metadata": {
        "id": "jwBxyVz0735b"
      }
    },
    {
      "cell_type": "code",
      "execution_count": null,
      "metadata": {
        "colab": {
          "base_uri": "https://localhost:8080/"
        },
        "id": "IZFG2lto1EC3",
        "outputId": "3d5593e1-af75-4d37-d131-5fc6c60be381"
      },
      "outputs": [
        {
          "output_type": "stream",
          "name": "stdout",
          "text": [
            "Hour(s): 1 --- Price: $ 10.0\n",
            "Hour(s): 2 --- Price: $ 10.0\n",
            "Hour(s): 3 --- Price: $ 12.5\n",
            "Hour(s): 4 --- Price: $ 15.0\n",
            "Hour(s): 5 --- Price: $ 17.5\n",
            "Hour(s): 6 --- Price: $ 20.0\n",
            "Hour(s): 7 --- Price: $ 20.0\n",
            "Hour(s): 8 --- Price: $ 20.0\n"
          ]
        }
      ],
      "source": [
        "for hour in range (1,9):\n",
        "  price = hour*2.50+5\n",
        "  if price < 10:\n",
        "    price = 10.0\n",
        "  if price > 20:\n",
        "    price = 20.0\n",
        "  print(\"Hour(s):\", hour, \"--- Price: $\", price)\n"
      ]
    },
    {
      "cell_type": "markdown",
      "source": [
        "Movie Theater Problem"
      ],
      "metadata": {
        "id": "Y5UzV0h97743"
      }
    },
    {
      "cell_type": "code",
      "source": [
        "for dollars in range (0,225,25):\n",
        "  profit = 200+10*(2*round(dollars**0.5))-200-dollars\n",
        "  print(\"Advertising Expenditure: $\", float(dollars), \"--- Profit: $\", float(profit))"
      ],
      "metadata": {
        "colab": {
          "base_uri": "https://localhost:8080/"
        },
        "id": "B1fEAdRq79fg",
        "outputId": "9b933492-521c-4e30-9eb3-730b1e181dcd"
      },
      "execution_count": null,
      "outputs": [
        {
          "output_type": "stream",
          "name": "stdout",
          "text": [
            "Advertising Expenditure: $ 0.0 --- Profit: $ 0.0\n",
            "Advertising Expenditure: $ 25.0 --- Profit: $ 75.0\n",
            "Advertising Expenditure: $ 50.0 --- Profit: $ 90.0\n",
            "Advertising Expenditure: $ 75.0 --- Profit: $ 105.0\n",
            "Advertising Expenditure: $ 100.0 --- Profit: $ 100.0\n",
            "Advertising Expenditure: $ 125.0 --- Profit: $ 95.0\n",
            "Advertising Expenditure: $ 150.0 --- Profit: $ 90.0\n",
            "Advertising Expenditure: $ 175.0 --- Profit: $ 85.0\n",
            "Advertising Expenditure: $ 200.0 --- Profit: $ 80.0\n"
          ]
        }
      ]
    }
  ]
}