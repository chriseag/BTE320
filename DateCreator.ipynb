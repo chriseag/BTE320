{
  "nbformat": 4,
  "nbformat_minor": 0,
  "metadata": {
    "colab": {
      "provenance": [],
      "authorship_tag": "ABX9TyNAvsiq9+nf2J0SEVwVaMw2",
      "include_colab_link": true
    },
    "kernelspec": {
      "name": "python3",
      "display_name": "Python 3"
    },
    "language_info": {
      "name": "python"
    }
  },
  "cells": [
    {
      "cell_type": "markdown",
      "metadata": {
        "id": "view-in-github",
        "colab_type": "text"
      },
      "source": [
        "<a href=\"https://colab.research.google.com/github/chriseag/BTE320/blob/main/DateCreator.ipynb\" target=\"_parent\"><img src=\"https://colab.research.google.com/assets/colab-badge.svg\" alt=\"Open In Colab\"/></a>"
      ]
    },
    {
      "cell_type": "code",
      "execution_count": null,
      "metadata": {
        "colab": {
          "base_uri": "https://localhost:8080/"
        },
        "id": "ZPuoD63S_pdF",
        "outputId": "880202fb-03eb-4dd9-e7ee-5550412aae23"
      },
      "outputs": [
        {
          "output_type": "stream",
          "name": "stdout",
          "text": [
            "Enter date: MM/DD/YYYY \n",
            "01/21/2004\n",
            "Month = 01\n",
            "Day = 21\n",
            "Year = 2004\n"
          ]
        }
      ],
      "source": [
        "date = input(\"Enter date: MM/DD/YYYY \\n\")\n",
        "month = date[:2]\n",
        "day = date[3:5]\n",
        "year = date[6:]\n",
        "print(\"Month =\", month)\n",
        "print(\"Day =\", day)\n",
        "print(\"Year =\", year)"
      ]
    }
  ]
}